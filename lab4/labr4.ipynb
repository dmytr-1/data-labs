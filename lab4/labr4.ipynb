{
 "cells": [
  {
   "cell_type": "markdown",
   "metadata": {},
   "source": [
    "<b>ФБ-21 Альгішиєв Дмитро</b>\n",
    "<b><h1>Лабораторна робота №4</h1></b>\n",
    "<b>\"Засоби підготовки та аналізу даних\"</b>\n",
    "\n",
    "\n",
    "\n"
   ]
  },
  {
   "cell_type": "code",
   "execution_count": 72,
   "metadata": {},
   "outputs": [],
   "source": [
    "import pandas as pd\n",
    "import timeit as tt\n",
    "import numpy as np"
   ]
  },
  {
   "cell_type": "markdown",
   "metadata": {},
   "source": [
    "<h3>NumPy</h3>"
   ]
  },
  {
   "cell_type": "code",
   "execution_count": 73,
   "metadata": {},
   "outputs": [
    {
     "name": "stdout",
     "output_type": "stream",
     "text": [
      "12.43194969999604\n",
      "[['16/12/2006' '17:24:00' '4.216' ... '0.000' '1.000' '17.000']\n",
      " ['16/12/2006' '17:25:00' '5.360' ... '0.000' '1.000' '16.000']\n",
      " ['16/12/2006' '17:26:00' '5.374' ... '0.000' '2.000' '17.000']\n",
      " ...\n",
      " ['26/11/2010' '21:00:00' '0.938' ... '0.000' '0.000' '0.000']\n",
      " ['26/11/2010' '21:01:00' '0.934' ... '0.000' '0.000' '0.000']\n",
      " ['26/11/2010' '21:02:00' '0.932' ... '0.000' '0.000' '0.000']]\n"
     ]
    }
   ],
   "source": [
    "\n",
    "file_path = 'household_power_consumption1.txt'\n",
    "\n",
    "\n",
    "def load_data(file_path):\n",
    "    data = np.genfromtxt(file_path, delimiter=';', skip_header=1, dtype=str)\n",
    "    return data\n",
    "\n",
    "\n",
    "start_time = tt.default_timer()\n",
    "data = load_data(file_path)\n",
    "end_time = tt.default_timer()\n",
    "load_time1 = end_time - start_time\n",
    "\n",
    "print(load_time1)\n",
    "\n",
    "print(data)"
   ]
  },
  {
   "cell_type": "markdown",
   "metadata": {},
   "source": [
    "data cleaning"
   ]
  },
  {
   "cell_type": "code",
   "execution_count": 74,
   "metadata": {},
   "outputs": [
    {
     "name": "stdout",
     "output_type": "stream",
     "text": [
      "30.767821700006607\n",
      "[['2006-12-16' '17' '4.216' ... '0.0' '1.0' '17.0']\n",
      " ['2006-12-16' '17' '5.36' ... '0.0' '1.0' '16.0']\n",
      " ['2006-12-16' '17' '5.374' ... '0.0' '2.0' '17.0']\n",
      " ...\n",
      " ['2010-11-26' '21' '0.938' ... '0.0' '0.0' '0.0']\n",
      " ['2010-11-26' '21' '0.934' ... '0.0' '0.0' '0.0']\n",
      " ['2010-11-26' '21' '0.932' ... '0.0' '0.0' '0.0']]\n"
     ]
    }
   ],
   "source": [
    "def clean_data(data):\n",
    "    \n",
    "    data = data[np.all((data != '?') & (data != ''), axis=1)]\n",
    "    \n",
    "    \n",
    "    for i in range(data.shape[0]):\n",
    "        right_f = dt.datetime.strptime(data[i, 0], \"%d/%m/%Y\")\n",
    "        data[i, 0] = np.datetime64(right_f)\n",
    "    \n",
    "   \n",
    "    for i in range(data.shape[0]):\n",
    "        data[i, 1] = data[i, 1].split(\":\")[0]\n",
    "    \n",
    "   \n",
    "    numerical_data = data[:, 2:].astype(float)\n",
    "    \n",
    "    \n",
    "    cleaned_data = np.column_stack((data[:, 0], data[:, 1], numerical_data))\n",
    "    \n",
    "    return cleaned_data\n",
    "\n",
    "\n",
    "start_time = tt.default_timer()\n",
    "cleaned_data = clean_data(data)\n",
    "end_time = tt.default_timer()\n",
    "clean_time1 = end_time - start_time\n",
    "\n",
    "print(clean_time1)\n",
    "\n",
    "\n",
    "print(cleaned_data)"
   ]
  },
  {
   "cell_type": "markdown",
   "metadata": {},
   "source": [
    "1. Обрати всі домогосподарства, у яких загальна активна споживана потужність перевищує 5 кВт."
   ]
  },
  {
   "cell_type": "code",
   "execution_count": 75,
   "metadata": {},
   "outputs": [
    {
     "name": "stdout",
     "output_type": "stream",
     "text": [
      "1.0097455000068294\n",
      "[['2006-12-16' '17' '5.36' '0.436' '233.63' '23.0' '0.0' '1.0' '16.0']\n",
      " ['2006-12-16' '17' '5.374' '0.498' '233.29' '23.0' '0.0' '2.0' '17.0']\n",
      " ['2006-12-16' '17' '5.388' '0.502' '233.74' '23.0' '0.0' '1.0' '17.0']\n",
      " ['2006-12-16' '17' '5.412' '0.47' '232.78' '23.2' '0.0' '1.0' '17.0']\n",
      " ['2006-12-16' '17' '5.224' '0.478' '232.99' '22.4' '0.0' '1.0' '16.0']]\n"
     ]
    }
   ],
   "source": [
    "def filter_households(cleaned_data):\n",
    "\n",
    "    filtered_data = cleaned_data[cleaned_data[:, 2].astype(float) > 5.0]\n",
    "    return filtered_data\n",
    "\n",
    "\n",
    "start_time = tt.default_timer()\n",
    "filter_households = filter_households(cleaned_data)\n",
    "end_time = tt.default_timer()\n",
    "filter_time1 = end_time - start_time\n",
    "print(filter_time1)\n",
    "\n",
    "\n",
    "print(filter_households[:5])"
   ]
  },
  {
   "cell_type": "markdown",
   "metadata": {},
   "source": [
    "2. Обрати всі домогосподарства, у яких вольтаж перевищую 235 В."
   ]
  },
  {
   "cell_type": "code",
   "execution_count": 76,
   "metadata": {},
   "outputs": [
    {
     "name": "stdout",
     "output_type": "stream",
     "text": [
      "1.635743899998488\n",
      "[['2006-12-16' '17' '3.666' '0.528' '235.68' '15.8' '0.0' '1.0' '17.0']\n",
      " ['2006-12-16' '17' '3.52' '0.522' '235.02' '15.0' '0.0' '2.0' '17.0']\n",
      " ['2006-12-16' '17' '3.702' '0.52' '235.09' '15.8' '0.0' '1.0' '17.0']\n",
      " ['2006-12-16' '17' '3.7' '0.52' '235.22' '15.8' '0.0' '1.0' '17.0']\n",
      " ['2006-12-16' '17' '4.054' '0.422' '235.24' '17.6' '0.0' '1.0' '17.0']]\n"
     ]
    }
   ],
   "source": [
    "def filter_high_voltage_households(cleaned_data):\n",
    "    \n",
    "    filtered_data = cleaned_data[cleaned_data[:, 4].astype(float) > 235.0]\n",
    "    return filtered_data\n",
    "\n",
    "\n",
    "start_time = tt.default_timer()\n",
    "high_voltage_data = filter_high_voltage_households(cleaned_data)\n",
    "end_time = tt.default_timer()\n",
    "filter_time2 = end_time - start_time\n",
    "\n",
    "print(filter_time2)\n",
    "\n",
    "\n",
    "print(high_voltage_data[:5])\n"
   ]
  },
  {
   "cell_type": "markdown",
   "metadata": {},
   "source": [
    "3. Обрати всі домогосподарства, у яких сила струму лежить в межах\n",
    "19-20 А, для них виявити ті, у яких пральна машина та холодильних\n",
    "споживають більше, ніж бойлер та кондиціонер."
   ]
  },
  {
   "cell_type": "code",
   "execution_count": 77,
   "metadata": {},
   "outputs": [
    {
     "name": "stdout",
     "output_type": "stream",
     "text": [
      "1.9718138999887742\n",
      "[['2006-12-16' '18' '4.464' '0.136' '234.66' '19.0' '0.0' '37.0' '16.0']\n",
      " ['2006-12-17' '01' '4.582' '0.258' '238.08' '19.6' '0.0' '13.0' '0.0']\n",
      " ['2006-12-17' '01' '4.618' '0.104' '239.61' '19.6' '0.0' '27.0' '0.0']\n",
      " ['2006-12-17' '01' '4.636' '0.14' '237.37' '19.4' '0.0' '36.0' '0.0']\n",
      " ['2006-12-17' '01' '4.634' '0.152' '237.17' '19.4' '0.0' '35.0' '0.0']]\n"
     ]
    }
   ],
   "source": [
    "def filter_current_and_energy_usage(cleaned_data):\n",
    "    \n",
    "    current_filtered_data = cleaned_data[(cleaned_data[:, 5].astype(float) >= 19) & (cleaned_data[:, 5].astype(float) <= 20)]\n",
    "    \n",
    "    specific_filtered_data = current_filtered_data[current_filtered_data[:, 7].astype(float) > current_filtered_data[:, 8].astype(float)]\n",
    "    \n",
    "    return specific_filtered_data\n",
    "\n",
    "\n",
    "start_time = tt.default_timer()\n",
    "filtered_current_and_energy_usage_data = filter_current_and_energy_usage(cleaned_data)\n",
    "end_time = tt.default_timer()\n",
    "filter_time3 = end_time - start_time\n",
    "print(filter_time3)\n",
    "\n",
    "print(filtered_current_and_energy_usage_data[:5])"
   ]
  },
  {
   "cell_type": "markdown",
   "metadata": {},
   "source": [
    "4. Обрати випадковим чином 500000 домогосподарств (без повторів\n",
    "елементів вибірки), для них обчислити середні величини усіх 3-х\n",
    "груп споживання електричної енергії, а також"
   ]
  },
  {
   "cell_type": "code",
   "execution_count": 78,
   "metadata": {},
   "outputs": [
    {
     "name": "stdout",
     "output_type": "stream",
     "text": [
      "1.0549257999955444\n",
      "Середнє Sub_metering_1: 1.119222\n",
      "Середнє Sub_metering_2: 1.305004\n",
      "Середнє Sub_metering_3: 6.457648\n"
     ]
    }
   ],
   "source": [
    "def calculate_averages(cleaned_data, sample_size=500000):\n",
    "  \n",
    "    sampled_indices = np.random.choice(cleaned_data.shape[0], size=sample_size, replace=False)\n",
    "    sampled_data = cleaned_data[sampled_indices]\n",
    "    \n",
    "    \n",
    "    sub_metering_1_avg = np.mean(sampled_data[:, 6].astype(float))\n",
    "    sub_metering_2_avg = np.mean(sampled_data[:, 7].astype(float))\n",
    "    sub_metering_3_avg = np.mean(sampled_data[:, 8].astype(float))\n",
    "    \n",
    "    return sub_metering_1_avg, sub_metering_2_avg, sub_metering_3_avg\n",
    "\n",
    "\n",
    "start_time = tt.default_timer()\n",
    "sub_metering_1_avg, sub_metering_2_avg, sub_metering_3_avg = calculate_averages(cleaned_data)\n",
    "end_time = tt.default_timer()\n",
    "time4 = end_time - start_time\n",
    "\n",
    "print(time4)\n",
    "print(f\"Середнє Sub_metering_1: {sub_metering_1_avg}\")\n",
    "print(f\"Середнє Sub_metering_2: {sub_metering_2_avg}\")\n",
    "print(f\"Середнє Sub_metering_3: {sub_metering_3_avg}\")"
   ]
  },
  {
   "cell_type": "markdown",
   "metadata": {},
   "source": [
    "5. Обрати ті домогосподарства, які після 18-00 споживають понад 6\n",
    "кВт за хвилину в середньому, серед відібраних визначити ті, у яких\n",
    "основне споживання електроенергії у вказаний проміжок часу\n",
    "припадає на пральну машину, сушарку, холодильник та освітлення\n",
    "(група 2 є найбільшою), а потім обрати кожен третій результат із\n",
    "першої половини та кожен четвертий результат із другої половини."
   ]
  },
  {
   "cell_type": "code",
   "execution_count": 79,
   "metadata": {},
   "outputs": [
    {
     "name": "stdout",
     "output_type": "stream",
     "text": [
      "1.1888133000029484\n",
      "[['2006-12-16' '18' '6.052' ... '0.0' '37.0' '17.0']\n",
      " ['2006-12-16' '18' '6.308' ... '0.0' '36.0' '17.0']\n",
      " ['2006-12-28' '20' '6.386' ... '1.0' '36.0' '17.0']\n",
      " ...\n",
      " ['2008-03-23' '20' '6.668' ... '0.0' '73.0' '17.0']\n",
      " ['2008-04-12' '18' '6.568' ... '34.0' '36.0' '18.0']\n",
      " ['2008-04-20' '21' '8.084' ... '1.0' '71.0' '18.0']]\n",
      "[['2008-04-20' '21' '7.798' ... '1.0' '71.0' '17.0']\n",
      " ['2008-04-20' '21' '7.452' ... '1.0' '68.0' '17.0']\n",
      " ['2008-04-20' '21' '6.436' ... '1.0' '37.0' '17.0']\n",
      " ...\n",
      " ['2010-11-20' '18' '6.302' ... '15.0' '34.0' '17.0']\n",
      " ['2010-11-20' '18' '6.238' ... '14.0' '35.0' '16.0']\n",
      " ['2010-11-20' '18' '6.438' ... '13.0' '39.0' '16.0']]\n"
     ]
    }
   ],
   "source": [
    "def filter_high_consumption_evening(cleaned_data):\n",
    "\n",
    "    evening_data = cleaned_data[cleaned_data[:, 1].astype(int) >= 18]\n",
    "    \n",
    "\n",
    "    high_consumption_data = evening_data[evening_data[:, 2].astype(float) > 6.0]\n",
    "    \n",
    "    return high_consumption_data\n",
    "\n",
    "def filter_group2_dominant(cleaned_data):\n",
    "\n",
    "    group2_dominant_data = cleaned_data[\n",
    "        (cleaned_data[:, 7].astype(float) > cleaned_data[:, 6].astype(float)) & \n",
    "        (cleaned_data[:, 7].astype(float) > cleaned_data[:, 8].astype(float))\n",
    "    ]\n",
    "    \n",
    "    return group2_dominant_data\n",
    "\n",
    "def select_every_third_and_fourth(cleaned_data):\n",
    "\n",
    "    half_index = len(cleaned_data) // 2\n",
    "    first_half = cleaned_data[:half_index]\n",
    "    second_half = cleaned_data[half_index:]\n",
    "    \n",
    "\n",
    "    result1 = first_half[::3]\n",
    "    result2 = second_half[::4]\n",
    "    \n",
    "    \n",
    "    return result1, result2\n",
    "\n",
    "start_time = tt.default_timer()\n",
    "high_consumption_evening_data = filter_high_consumption_evening(cleaned_data)\n",
    "\n",
    "group2_dominant_data = filter_group2_dominant(high_consumption_evening_data)\n",
    "\n",
    "result1, result2 = select_every_third_and_fourth(group2_dominant_data)\n",
    "end_time = tt.default_timer()\n",
    "time5 = end_time - start_time\n",
    "\n",
    "print(time5)\n",
    "print(result1)\n",
    "print(result2)\n"
   ]
  },
  {
   "cell_type": "markdown",
   "metadata": {},
   "source": [
    "<h3>Pandas</h3>"
   ]
  },
  {
   "cell_type": "code",
   "execution_count": 80,
   "metadata": {},
   "outputs": [
    {
     "name": "stdout",
     "output_type": "stream",
     "text": [
      "1.6060180000058608\n",
      "         Date      Time  Global_active_power  Global_reactive_power  Voltage  \\\n",
      "0  16/12/2006  17:24:00                4.216                  0.418   234.84   \n",
      "1  16/12/2006  17:25:00                5.360                  0.436   233.63   \n",
      "2  16/12/2006  17:26:00                5.374                  0.498   233.29   \n",
      "3  16/12/2006  17:27:00                5.388                  0.502   233.74   \n",
      "4  16/12/2006  17:28:00                3.666                  0.528   235.68   \n",
      "\n",
      "   Global_intensity  Sub_metering_1  Sub_metering_2  Sub_metering_3  \n",
      "0              18.4             0.0             1.0            17.0  \n",
      "1              23.0             0.0             1.0            16.0  \n",
      "2              23.0             0.0             2.0            17.0  \n",
      "3              23.0             0.0             1.0            17.0  \n",
      "4              15.8             0.0             1.0            17.0  \n"
     ]
    }
   ],
   "source": [
    "\n",
    "file_path = 'household_power_consumption2.txt'\n",
    "\n",
    "\n",
    "start_time = tt.default_timer()\n",
    "df = pd.read_csv(file_path, delimiter=';', na_values = '?')\n",
    "end_time = tt.default_timer()\n",
    "load_time2 = end_time - start_time\n",
    "\n",
    "print(load_time2)\n",
    "print(df.head())"
   ]
  },
  {
   "cell_type": "markdown",
   "metadata": {},
   "source": [
    "data cleaning"
   ]
  },
  {
   "cell_type": "code",
   "execution_count": 81,
   "metadata": {},
   "outputs": [
    {
     "name": "stdout",
     "output_type": "stream",
     "text": [
      "9.756074799995986\n",
      "                  Date      Time  Global_active_power  Global_reactive_power  \\\n",
      "0  2006-12-16 00:00:00  17:24:00                4.216                  0.418   \n",
      "1  2006-12-16 00:00:00  17:25:00                5.360                  0.436   \n",
      "2  2006-12-16 00:00:00  17:26:00                5.374                  0.498   \n",
      "3  2006-12-16 00:00:00  17:27:00                5.388                  0.502   \n",
      "4  2006-12-16 00:00:00  17:28:00                3.666                  0.528   \n",
      "\n",
      "   Voltage  Global_intensity  Sub_metering_1  Sub_metering_2  Sub_metering_3  \n",
      "0   234.84              18.4             0.0             1.0            17.0  \n",
      "1   233.63              23.0             0.0             1.0            16.0  \n",
      "2   233.29              23.0             0.0             2.0            17.0  \n",
      "3   233.74              23.0             0.0             1.0            17.0  \n",
      "4   235.68              15.8             0.0             1.0            17.0  \n"
     ]
    }
   ],
   "source": [
    "def clean_data(df):\n",
    "\n",
    "    df = df.dropna()\n",
    "\n",
    "    df.loc[:, 'Date'] = pd.to_datetime(df['Date'], format='%d/%m/%Y')\n",
    "    df.loc[:, 'Time'] = pd.to_datetime(df['Time'], format='%H:%M:%S').dt.time\n",
    "    \n",
    "    cols_to_convert = ['Global_active_power', 'Global_reactive_power', 'Voltage', 'Global_intensity', \n",
    "                       'Sub_metering_1', 'Sub_metering_2', 'Sub_metering_3']\n",
    "    df.loc[:, cols_to_convert] = df[cols_to_convert].astype(float)\n",
    "    \n",
    "    return df\n",
    "\n",
    "\n",
    "start_time = tt.default_timer()\n",
    "cleaned_df = clean_data(df)\n",
    "end_time = tt.default_timer()\n",
    "clean_time2 = end_time - start_time\n",
    "\n",
    "print(clean_time2)\n",
    "print(cleaned_df.head())"
   ]
  },
  {
   "cell_type": "markdown",
   "metadata": {},
   "source": [
    "1. Обрати всі домогосподарства, у яких загальна активна споживана\n",
    "потужність перевищує 5 кВт."
   ]
  },
  {
   "cell_type": "code",
   "execution_count": 82,
   "metadata": {},
   "outputs": [
    {
     "name": "stdout",
     "output_type": "stream",
     "text": [
      "0.007449099997757003\n",
      "                   Date      Time  Global_active_power  Global_reactive_power  \\\n",
      "1   2006-12-16 00:00:00  17:25:00                5.360                  0.436   \n",
      "2   2006-12-16 00:00:00  17:26:00                5.374                  0.498   \n",
      "3   2006-12-16 00:00:00  17:27:00                5.388                  0.502   \n",
      "11  2006-12-16 00:00:00  17:35:00                5.412                  0.470   \n",
      "12  2006-12-16 00:00:00  17:36:00                5.224                  0.478   \n",
      "\n",
      "    Voltage  Global_intensity  Sub_metering_1  Sub_metering_2  Sub_metering_3  \n",
      "1    233.63              23.0             0.0             1.0            16.0  \n",
      "2    233.29              23.0             0.0             2.0            17.0  \n",
      "3    233.74              23.0             0.0             1.0            17.0  \n",
      "11   232.78              23.2             0.0             1.0            17.0  \n",
      "12   232.99              22.4             0.0             1.0            16.0  \n"
     ]
    }
   ],
   "source": [
    "def filter_high_power_consumption(df):\n",
    "    return df[df['Global_active_power'] > 5]\n",
    "\n",
    "\n",
    "start_time = tt.default_timer()\n",
    "high_power_consumption_df = filter_high_power_consumption(cleaned_df)\n",
    "end_time = tt.default_timer()\n",
    "filter_time4 = end_time - start_time\n",
    "\n",
    "print(filter_time4)\n",
    "print(high_power_consumption_df.head())"
   ]
  },
  {
   "cell_type": "markdown",
   "metadata": {},
   "source": [
    "2. Обрати всі домогосподарства, у яких вольтаж перевищую 235 В."
   ]
  },
  {
   "cell_type": "code",
   "execution_count": 83,
   "metadata": {},
   "outputs": [
    {
     "name": "stdout",
     "output_type": "stream",
     "text": [
      "0.16192500000761356\n",
      "                   Date      Time  Global_active_power  Global_reactive_power  \\\n",
      "4   2006-12-16 00:00:00  17:28:00                3.666                  0.528   \n",
      "5   2006-12-16 00:00:00  17:29:00                3.520                  0.522   \n",
      "6   2006-12-16 00:00:00  17:30:00                3.702                  0.520   \n",
      "7   2006-12-16 00:00:00  17:31:00                3.700                  0.520   \n",
      "14  2006-12-16 00:00:00  17:38:00                4.054                  0.422   \n",
      "\n",
      "    Voltage  Global_intensity  Sub_metering_1  Sub_metering_2  Sub_metering_3  \n",
      "4    235.68              15.8             0.0             1.0            17.0  \n",
      "5    235.02              15.0             0.0             2.0            17.0  \n",
      "6    235.09              15.8             0.0             1.0            17.0  \n",
      "7    235.22              15.8             0.0             1.0            17.0  \n",
      "14   235.24              17.6             0.0             1.0            17.0  \n"
     ]
    }
   ],
   "source": [
    "\n",
    "def filter_high_voltage(df):\n",
    "    return df[df['Voltage'] > 235]\n",
    "\n",
    "\n",
    "start_time = tt.default_timer()\n",
    "high_voltage_df = filter_high_voltage(cleaned_df)\n",
    "end_time = tt.default_timer()\n",
    "filter_time5 = end_time - start_time\n",
    "\n",
    "print(filter_time5)\n",
    "print(high_voltage_df.head())\n"
   ]
  },
  {
   "cell_type": "markdown",
   "metadata": {},
   "source": [
    "3. Обрати всі домогосподарства, у яких сила струму лежить в межах\n",
    "19-20 А, для них виявити ті, у яких пральна машина та холодильних\n",
    "споживають більше, ніж бойлер та кондиціонер."
   ]
  },
  {
   "cell_type": "code",
   "execution_count": 84,
   "metadata": {},
   "outputs": [
    {
     "name": "stdout",
     "output_type": "stream",
     "text": [
      "0.011203600006410852\n",
      "                    Date      Time  Global_active_power  \\\n",
      "45   2006-12-16 00:00:00  18:09:00                4.464   \n",
      "460  2006-12-17 00:00:00  01:04:00                4.582   \n",
      "464  2006-12-17 00:00:00  01:08:00                4.618   \n",
      "475  2006-12-17 00:00:00  01:19:00                4.636   \n",
      "476  2006-12-17 00:00:00  01:20:00                4.634   \n",
      "\n",
      "     Global_reactive_power  Voltage  Global_intensity  Sub_metering_1  \\\n",
      "45                   0.136   234.66              19.0             0.0   \n",
      "460                  0.258   238.08              19.6             0.0   \n",
      "464                  0.104   239.61              19.6             0.0   \n",
      "475                  0.140   237.37              19.4             0.0   \n",
      "476                  0.152   237.17              19.4             0.0   \n",
      "\n",
      "     Sub_metering_2  Sub_metering_3  \n",
      "45             37.0            16.0  \n",
      "460            13.0             0.0  \n",
      "464            27.0             0.0  \n",
      "475            36.0             0.0  \n",
      "476            35.0             0.0  \n"
     ]
    }
   ],
   "source": [
    "\n",
    "def filter_current_range(df):\n",
    "    return df[(df['Global_intensity'] >= 19) & (df['Global_intensity'] <= 20)]\n",
    "\n",
    "\n",
    "def filter_energy_usage(df):\n",
    "    return df[df['Sub_metering_2'] > df['Sub_metering_3']]\n",
    "\n",
    "\n",
    "start_time = tt.default_timer()\n",
    "current_filtered_df = filter_current_range(cleaned_df)\n",
    "energy_filtered_df = filter_energy_usage(current_filtered_df)\n",
    "end_time = tt.default_timer()\n",
    "filter_time6 = end_time - start_time\n",
    "\n",
    "print(filter_time6)\n",
    "print(energy_filtered_df.head())\n"
   ]
  },
  {
   "cell_type": "markdown",
   "metadata": {},
   "source": [
    "4. Обрати випадковим чином 500000 домогосподарств (без повторів\n",
    "елементів вибірки), для них обчислити середні величини усіх 3-х\n",
    "груп споживання електричної енергії"
   ]
  },
  {
   "cell_type": "code",
   "execution_count": 85,
   "metadata": {},
   "outputs": [
    {
     "name": "stdout",
     "output_type": "stream",
     "text": [
      "0.3148920999956317\n",
      "Середнє Sub_metering_1: 1.121958\n",
      "Середнє Sub_metering_2: 1.298154\n",
      "Середнє Sub_metering_3: 6.47089\n"
     ]
    }
   ],
   "source": [
    "\n",
    "def sample_households(df, sample_size=500000):\n",
    "    return df.sample(n=sample_size, replace=False)\n",
    "\n",
    "\n",
    "def calculate_averages(df):\n",
    "    sub_metering_1_avg = df['Sub_metering_1'].mean()\n",
    "    sub_metering_2_avg = df['Sub_metering_2'].mean()\n",
    "    sub_metering_3_avg = df['Sub_metering_3'].mean()\n",
    "    return sub_metering_1_avg, sub_metering_2_avg, sub_metering_3_avg\n",
    "\n",
    "start_time = tt.default_timer()\n",
    "sampled_df = sample_households(cleaned_df)\n",
    "sub_metering_1_avg, sub_metering_2_avg, sub_metering_3_avg = calculate_averages(sampled_df)\n",
    "end_time = tt.default_timer()\n",
    "time5 = end_time - start_time\n",
    "\n",
    "print(time5)\n",
    "print(f\"Середнє Sub_metering_1: {sub_metering_1_avg}\")\n",
    "print(f\"Середнє Sub_metering_2: {sub_metering_2_avg}\")\n",
    "print(f\"Середнє Sub_metering_3: {sub_metering_3_avg}\")\n"
   ]
  },
  {
   "cell_type": "markdown",
   "metadata": {},
   "source": [
    "5. Обрати ті домогосподарства, які після 18-00 споживають понад 6\n",
    "кВт за хвилину в середньому, серед відібраних визначити ті, у яких\n",
    "основне споживання електроенергії у вказаний проміжок часу\n",
    "припадає на пральну машину, сушарку, холодильник та освітлення\n",
    "(група 2 є найбільшою), а потім обрати кожен третій результат із\n",
    "першої половини та кожен четвертий результат із другої половини."
   ]
  },
  {
   "cell_type": "code",
   "execution_count": 86,
   "metadata": {},
   "outputs": [
    {
     "name": "stdout",
     "output_type": "stream",
     "text": [
      "0.12688840000191703\n",
      "                      Date      Time  Global_active_power  \\\n",
      "41     2006-12-16 00:00:00  18:05:00                6.052   \n",
      "44     2006-12-16 00:00:00  18:08:00                6.308   \n",
      "17494  2006-12-28 00:00:00  20:58:00                6.386   \n",
      "17498  2006-12-28 00:00:00  21:02:00                8.088   \n",
      "17501  2006-12-28 00:00:00  21:05:00                7.230   \n",
      "\n",
      "       Global_reactive_power  Voltage  Global_intensity  Sub_metering_1  \\\n",
      "41                     0.192   232.93              26.2             0.0   \n",
      "44                     0.116   232.25              27.0             0.0   \n",
      "17494                  0.374   236.63              27.0             1.0   \n",
      "17498                  0.262   235.50              34.4             1.0   \n",
      "17501                  0.152   235.22              30.6             1.0   \n",
      "\n",
      "       Sub_metering_2  Sub_metering_3  \n",
      "41               37.0            17.0  \n",
      "44               36.0            17.0  \n",
      "17494            36.0            17.0  \n",
      "17498            72.0            17.0  \n",
      "17501            73.0            17.0  \n",
      "                        Date      Time  Global_active_power  \\\n",
      "2066466  2010-11-20 00:00:00  18:30:00                6.620   \n",
      "2066470  2010-11-20 00:00:00  18:34:00                6.266   \n",
      "2066474  2010-11-20 00:00:00  18:38:00                6.302   \n",
      "2066478  2010-11-20 00:00:00  18:42:00                6.238   \n",
      "2066482  2010-11-20 00:00:00  18:46:00                6.438   \n",
      "\n",
      "         Global_reactive_power  Voltage  Global_intensity  Sub_metering_1  \\\n",
      "2066466                  0.314   229.00              29.2            18.0   \n",
      "2066470                  0.360   229.82              27.6            14.0   \n",
      "2066474                  0.376   229.65              27.8            15.0   \n",
      "2066478                  0.344   229.37              27.6            14.0   \n",
      "2066482                  0.308   229.26              28.4            13.0   \n",
      "\n",
      "         Sub_metering_2  Sub_metering_3  \n",
      "2066466            34.0            16.0  \n",
      "2066470            35.0            16.0  \n",
      "2066474            34.0            17.0  \n",
      "2066478            35.0            16.0  \n",
      "2066482            39.0            16.0  \n"
     ]
    }
   ],
   "source": [
    "def filter_evening_high_consumption(df):\n",
    "\n",
    "    evening_df = df[df['Time'] >= pd.to_datetime('18:00:00').time()]\n",
    "\n",
    "    high_consumption_df = evening_df[evening_df['Global_active_power'] > 6]\n",
    "    return high_consumption_df\n",
    "\n",
    "def filter_group2_dominant(df):\n",
    "\n",
    "    group2_dominant_df = df[(df['Sub_metering_2'] > df['Sub_metering_1']) & \n",
    "                            (df['Sub_metering_2'] > df['Sub_metering_3'])]\n",
    "    return group2_dominant_df\n",
    "\n",
    "def select_every_third_and_fourth(df):\n",
    "\n",
    "    half_index = len(df) // 2\n",
    "    first_half = df[:half_index]\n",
    "    second_half = df[half_index:]\n",
    "    \n",
    "    result1 = first_half[::3]\n",
    "    \n",
    "    result2 = second_half[::4]\n",
    "    \n",
    "    return result1, result2\n",
    "\n",
    "\n",
    "start_time = tt.default_timer()\n",
    "evening_high_consumption_df = filter_evening_high_consumption(cleaned_df)\n",
    "\n",
    "group2_dominant_df = filter_group2_dominant(evening_high_consumption_df)\n",
    "\n",
    "result1, result2 = select_every_third_and_fourth(group2_dominant_df)\n",
    "end_time = tt.default_timer()\n",
    "time6 = end_time - start_time\n",
    "\n",
    "print(time6)\n",
    "print(result1.head())\n",
    "print(result2.tail())"
   ]
  }
 ],
 "metadata": {
  "kernelspec": {
   "display_name": "Python 3",
   "language": "python",
   "name": "python3"
  },
  "language_info": {
   "codemirror_mode": {
    "name": "ipython",
    "version": 3
   },
   "file_extension": ".py",
   "mimetype": "text/x-python",
   "name": "python",
   "nbconvert_exporter": "python",
   "pygments_lexer": "ipython3",
   "version": "3.11.0"
  }
 },
 "nbformat": 4,
 "nbformat_minor": 2
}
